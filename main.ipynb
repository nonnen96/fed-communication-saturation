{
 "cells": [
  {
   "cell_type": "markdown",
   "id": "e5ae30e9",
   "metadata": {},
   "source": [
    "## When central banks talk too much: quantifying information saturation in monetary policy communication"
   ]
  },
  {
   "cell_type": "markdown",
   "id": "b06d6fba",
   "metadata": {},
   "source": [
    "#### Introduction \n",
    "\n",
    "**Objective:**  \n",
    "Study how the intensity and frequency of central bank communication affect market behavior, focusing on the potential non-linear effects of “information overload.”  \n",
    " \n",
    "Hypothesis: beyond a certain threshold, excessive communication (too frequent, repetitive, or inconsistent) leads to *communication fatigue*, markets begin to discount the information, and new speeches lose their marginal impact on volatility and pricing."
   ]
  },
  {
   "cell_type": "markdown",
   "id": "75750f4e",
   "metadata": {},
   "source": [
    "#### Installation of the packages\n",
    "\n",
    "Installation of the packages listed in the README (if you haven’t already)"
   ]
  },
  {
   "cell_type": "code",
   "execution_count": 4,
   "id": "25d6a7ce",
   "metadata": {},
   "outputs": [],
   "source": [
    "# pip install selenium chromedriver-autoinstaller webdriver-manager pandas numpy geopy dill matplotlib scipy seaborn folium scikit-learn xgboost s3fs"
   ]
  },
  {
   "cell_type": "code",
   "execution_count": 5,
   "id": "2f1ac10b",
   "metadata": {},
   "outputs": [],
   "source": [
    "from selenium import webdriver\n",
    "from selenium.webdriver.chrome.options import Options"
   ]
  },
  {
   "cell_type": "markdown",
   "id": "28d2d8d7",
   "metadata": {},
   "source": [
    "#### I. **Data collection & preprocessing**"
   ]
  },
  {
   "cell_type": "markdown",
   "id": "e386ae2b",
   "metadata": {},
   "source": [
    "- Official speeches from the Federal Reserve (2007–2025) "
   ]
  },
  {
   "cell_type": "code",
   "execution_count": 6,
   "id": "958d3f31",
   "metadata": {},
   "outputs": [],
   "source": [
    "## The code for scraping the Federal Reserve website is located in the file \"scraping.py\"\n",
    "#from scraping2 import main\n",
    "#main()"
   ]
  },
  {
   "cell_type": "markdown",
   "id": "df6aab17",
   "metadata": {},
   "source": [
    "- Financial data (VIX, S&P500, US 10Y, USD Index)\n",
    "- Merge and align both datasets at a weekly or daily frequency"
   ]
  },
  {
   "cell_type": "markdown",
   "id": "93bb6db5",
   "metadata": {},
   "source": [
    "#### II. **NLP analysis (content features)**\n",
    "- Measure the tone of each speech using FinBERT (positive, negative, neutral)\n",
    "- Compute lexical and semantic indicators:\n",
    "    - Lexical richness, sentence length, word count\n",
    "    - Semantic similarity across speeches (redundancy)\n",
    "    - Tone dispersion across speakers in the same week (coherence)\n",
    "- Aggregate these NLP features at a weekly level"
   ]
  },
  {
   "cell_type": "code",
   "execution_count": null,
   "id": "263f5298",
   "metadata": {},
   "outputs": [],
   "source": []
  },
  {
   "cell_type": "markdown",
   "id": "a6bafbe6",
   "metadata": {},
   "source": [
    "#### III. **Building the Communication Intensity Index (CII)**\n",
    "\n",
    "- Combine:\n",
    "    - Quantitative metrics (# speeches, # speakers, avg word count)\n",
    "    - Tonal metrics (average tone, tone dispersion)\n",
    "    - Semantic metrics (redundancy, overlap)\n",
    "- Standardize variables (z-scores)\n",
    "- Optionally, derive weights via PCA or regression importance\n",
    "- Visualize and interpret temporal patterns of CII (crisis vs calm periods)"
   ]
  },
  {
   "cell_type": "code",
   "execution_count": null,
   "id": "334a6e9a",
   "metadata": {},
   "outputs": [],
   "source": []
  },
  {
   "cell_type": "markdown",
   "id": "942ae307",
   "metadata": {},
   "source": [
    "#### IV.. **Modeling the market response**\n",
    "- Link CII_t (and its lags) to changes in:\n",
    "    - VIX (volatility expectations)\n",
    "    - Realized volatility of S&P500\n",
    "    - Bond yields (10Y)\n",
    "    - USD index (DXY)\n",
    "- Estimation methods:\n",
    "    - Baseline OLS or ridge regression\n",
    "    - Non-linear models: Random Forest, XGBoost, LightGBM\n",
    "    - Temporal models: LSTM or GRU for sequential effects\n",
    "- Evaluate predictive performance (R², MAE, MSE)"
   ]
  },
  {
   "cell_type": "code",
   "execution_count": null,
   "id": "e1b8a8c9",
   "metadata": {},
   "outputs": [],
   "source": []
  },
  {
   "cell_type": "markdown",
   "id": "1c82dfee",
   "metadata": {},
   "source": [
    "#### V. **Interpretability & non-linear effects**\n",
    "- Use Partial Dependence Plots (PDP) and SHAP values\n",
    "    - Identify where the marginal effect of communication intensity turns negative\n",
    "    - Visualize which features contribute most to volatility\n",
    "- Compare models (linear vs non-linear) to validate saturation effects"
   ]
  },
  {
   "cell_type": "code",
   "execution_count": null,
   "id": "c7dcae47",
   "metadata": {},
   "outputs": [],
   "source": []
  },
  {
   "cell_type": "markdown",
   "id": "4b15fc28",
   "metadata": {},
   "source": [
    "#### VI. **Robustness & extensions**\n",
    "- Subsample analysis:\n",
    "    - Crisis vs calm periods (e.g., 2008, 2013, 2020–2022)\n",
    "    - Hawkish vs dovish speakers\n",
    "- Granger causality tests:\n",
    "    - Does communication *drive* volatility or react to it?\n",
    "- Cross-bank comparison (ECB, BoE) for future extension\n"
   ]
  },
  {
   "cell_type": "code",
   "execution_count": null,
   "id": "3e20a412",
   "metadata": {},
   "outputs": [],
   "source": []
  },
  {
   "cell_type": "code",
   "execution_count": null,
   "id": "a7bd5d84",
   "metadata": {},
   "outputs": [],
   "source": []
  }
 ],
 "metadata": {
  "kernelspec": {
   "display_name": "Python 3",
   "language": "python",
   "name": "python3"
  },
  "language_info": {
   "codemirror_mode": {
    "name": "ipython",
    "version": 3
   },
   "file_extension": ".py",
   "mimetype": "text/x-python",
   "name": "python",
   "nbconvert_exporter": "python",
   "pygments_lexer": "ipython3",
   "version": "3.13.8"
  }
 },
 "nbformat": 4,
 "nbformat_minor": 5
}

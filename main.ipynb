{
 "cells": [
  {
   "cell_type": "markdown",
   "id": "e5ae30e9",
   "metadata": {},
   "source": [
    "## When central banks talk too much: quantifying information saturation in monetary policy communication"
   ]
  },
  {
   "cell_type": "markdown",
   "id": "b06d6fba",
   "metadata": {},
   "source": [
    "#### Introduction \n",
    "\n",
    "--"
   ]
  },
  {
   "cell_type": "markdown",
   "id": "75750f4e",
   "metadata": {},
   "source": [
    "#### Installation of the packages\n",
    "\n",
    "Installation of the packages listed in the README (if you haven’t already)"
   ]
  },
  {
   "cell_type": "code",
   "execution_count": 3,
   "id": "25d6a7ce",
   "metadata": {},
   "outputs": [],
   "source": [
    "#pip install selenium chromedriver-autoinstaller webdriver-manager pandas numpy geopy dill matplotlib scipy seaborn folium scikit-learn xgboost s3fs"
   ]
  },
  {
   "cell_type": "markdown",
   "id": "28d2d8d7",
   "metadata": {},
   "source": [
    "#### I. Scraping"
   ]
  },
  {
   "cell_type": "code",
   "execution_count": 4,
   "id": "958d3f31",
   "metadata": {},
   "outputs": [],
   "source": [
    "## The code for scraping the Federal Reserve website is located in the file \"scraping.py\"\n",
    "# from scraping import main\n",
    "# main()"
   ]
  },
  {
   "cell_type": "markdown",
   "id": "93bb6db5",
   "metadata": {},
   "source": []
  },
  {
   "cell_type": "code",
   "execution_count": null,
   "id": "26538f18",
   "metadata": {},
   "outputs": [],
   "source": []
  }
 ],
 "metadata": {
  "kernelspec": {
   "display_name": "Python 3",
   "language": "python",
   "name": "python3"
  },
  "language_info": {
   "codemirror_mode": {
    "name": "ipython",
    "version": 3
   },
   "file_extension": ".py",
   "mimetype": "text/x-python",
   "name": "python",
   "nbconvert_exporter": "python",
   "pygments_lexer": "ipython3",
   "version": "3.13.8"
  }
 },
 "nbformat": 4,
 "nbformat_minor": 5
}
